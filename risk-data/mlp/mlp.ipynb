{
 "cells": [
  {
   "cell_type": "code",
   "execution_count": 49,
   "metadata": {},
   "outputs": [],
   "source": [
    "import warnings\n",
    "\n",
    "import matplotlib.pyplot as plt\n",
    "import pandas\n",
    "from sklearn.metrics import accuracy_score, plot_confusion_matrix\n",
    "from sklearn.model_selection import train_test_split\n",
    "from sklearn.neural_network import MLPClassifier\n",
    "from sklearn.preprocessing import StandardScaler\n",
    "\n",
    "pandas.options.mode.chained_assignment = None\n",
    "\n",
    "# suppress warnings\n",
    "warnings.filterwarnings(\"ignore\")"
   ]
  },
  {
   "cell_type": "code",
   "execution_count": 50,
   "metadata": {},
   "outputs": [],
   "source": [
    "data_frame = pandas.read_csv('datasets/processed_risk_data.csv')\n",
    "\n",
    "# remove the result column\n",
    "x = data_frame.drop('RISK', axis=1)\n",
    "\n",
    "# separate the result column\n",
    "y = data_frame['RISK']"
   ]
  },
  {
   "cell_type": "code",
   "execution_count": 51,
   "metadata": {},
   "outputs": [],
   "source": [
    "#split the datasets\n",
    "trainX, testX, trainY, testY = train_test_split(x, y, test_size = 0.2, random_state=42)"
   ]
  },
  {
   "cell_type": "code",
   "execution_count": 52,
   "metadata": {},
   "outputs": [
    {
     "data": {
      "text/plain": [
       "MLPClassifier(hidden_layer_sizes=(5, 2), max_iter=300)"
      ]
     },
     "execution_count": 52,
     "metadata": {},
     "output_type": "execute_result"
    }
   ],
   "source": [
    "################### SCALING\n",
    "\n",
    "#To train a MLP network, the data should always be scaled\n",
    "\n",
    "sc = StandardScaler()               # will be using the Standard Scaler\n",
    "scaler = sc.fit(trainX)             # compute the mean and std to use for later scaling\n",
    "trainX_scaled = scaler.transform(trainX)    # scale training set\n",
    "testX_scaled = scaler.transform(testX)      #scale test set\n",
    "\n",
    "# NB: no need to scale y since it is in discrete values\n",
    "# NB: if y was a continuous dataset, scaling would be needed for that also\n",
    "\n",
    "# Activation function - ‘identity’, ‘logistic’, ‘tanh’, ‘relu(default)’\n",
    "# Solver - stochastic solvers eg sgd or adam || non stochastic lbfs (quasi newtonian)\n",
    "\n",
    "mlp_clf = MLPClassifier(hidden_layer_sizes=(5,2), learning_rate='constant', learning_rate_init=0.001, max_iter = 300, activation = 'relu', solver = 'adam', shuffle=True)\n",
    "\n",
    "# ######## TRAINING THE CLASSIFIER MODEL mlp_clf\n",
    "mlp_clf.fit(trainX_scaled, trainY)"
   ]
  },
  {
   "cell_type": "code",
   "execution_count": 53,
   "metadata": {},
   "outputs": [],
   "source": [
    "y_pred = mlp_clf.predict(testX_scaled)"
   ]
  },
  {
   "cell_type": "code",
   "execution_count": 54,
   "metadata": {},
   "outputs": [
    {
     "name": "stdout",
     "output_type": "stream",
     "text": [
      "Accuracy: 0.7269\n"
     ]
    },
    {
     "data": {
      "image/png": "[encoded data removed]",
      "text/plain": [
       "<Figure size 432x288 with 2 Axes>"
      ]
     },
     "metadata": {
      "needs_background": "light"
     },
     "output_type": "display_data"
    }
   ],
   "source": [
    "print('Accuracy: {:.4f}'.format(accuracy_score(testY, y_pred)))\n",
    "\n",
    "fig = plot_confusion_matrix(mlp_clf, testX_scaled, testY, display_labels=mlp_clf.classes_, normalize='all')\n",
    "fig.figure_.suptitle(\"Confusion Matrix for risk Dataset\")\n",
    "plt.show()"
   ]
  }
 ],
 "metadata": {
  "interpreter": {
   "hash": "916dbcbb3f70747c44a77c7bcd40155683ae19c65e1c03b4aa3499c5328201f1"
  },
  "kernelspec": {
   "display_name": "Python 3.9.7 64-bit",
   "language": "python",
   "name": "python3"
  },
  "language_info": {
   "codemirror_mode": {
    "name": "ipython",
    "version": 3
   },
   "file_extension": ".py",
   "mimetype": "text/x-python",
   "name": "python",
   "nbconvert_exporter": "python",
   "pygments_lexer": "ipython3",
   "version": "3.9.7"
  },
  "orig_nbformat": 4
 },
 "nbformat": 4,
 "nbformat_minor": 2
}
