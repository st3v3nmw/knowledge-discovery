{
 "cells": [
  {
   "cell_type": "code",
   "execution_count": 13,
   "metadata": {},
   "outputs": [],
   "source": [
    "import csv\n",
    "from datetime import datetime\n",
    "import numpy as np\n",
    "from sklearn.model_selection import train_test_split\n",
    "from sklearn.neural_network import MLPRegressor\n",
    "from datetime import datetime"
   ]
  },
  {
   "cell_type": "code",
   "execution_count": 18,
   "metadata": {},
   "outputs": [],
   "source": [
    "with open(\"../datasets/phone-data.csv\", \"r\") as f:\n",
    "    reader = csv.DictReader(f)\n",
    "    X, y = [], []\n",
    "    for row in reader:\n",
    "        gender = 0 if row['gender'] == 'F' else 1\n",
    "        marital_status = 0 if row['marital status'] == 'single' else 1\n",
    "        row['time of call'] = row['time of call'].replace('a.m', ' AM')\n",
    "        row['time of call'] = row['time of call'].replace('p.m', ' PM')\n",
    "        time_obj = datetime.strptime(row['time of call'], '%I:%M %p')\n",
    "        time_of_call = time_obj.hour * 60 * 60 + time_obj.minute * 60 + time_obj.second\n",
    "        X.append([gender, marital_status, time_of_call])\n",
    "        y.append(int(row['length of call (sec)']))\n",
    "    X = np.array(X)\n",
    "    y = np.array(y)"
   ]
  },
  {
   "cell_type": "code",
   "execution_count": 19,
   "metadata": {},
   "outputs": [
    {
     "name": "stdout",
     "output_type": "stream",
     "text": [
      "-21.05320797622955\n"
     ]
    }
   ],
   "source": [
    "X_train, X_test, y_train, y_test = train_test_split(X, y, test_size=0.3, random_state=42)\n",
    "\n",
    "model = MLPRegressor(max_iter=5000, random_state=1)\n",
    "model.fit(X_train, y_train)\n",
    "print(model.score(X_test, y_test))"
   ]
  },
  {
   "cell_type": "code",
   "execution_count": 20,
   "metadata": {},
   "outputs": [
    {
     "name": "stdout",
     "output_type": "stream",
     "text": [
      "83 -59.767827565471684\n",
      "23 -113.96930452908423\n",
      "92 -47.90872072586881\n",
      "85 -57.52848574163391\n",
      "51 -84.84495978574982\n",
      "129 -21.72564709330327\n",
      "45 -88.73364474506529\n",
      "49 -68.03616660733455\n",
      "56 -81.14143292325166\n",
      "27 -11.734737417719078\n",
      "35 -3.3802698441703183\n",
      "44 -77.19242149913184\n",
      "42 -74.25115038836434\n",
      "24 -115.22170093786103\n",
      "85 -60.397357820348184\n",
      "53 -84.9439893508766\n",
      "50 -81.90286020879152\n",
      "79 -53.321917188648335\n"
     ]
    }
   ],
   "source": [
    "pred = model.predict(X_test)\n",
    "for i in range(len(pred)):\n",
    "    print(y_test[i], pred[i])"
   ]
  },
  {
   "cell_type": "code",
   "execution_count": null,
   "metadata": {},
   "outputs": [],
   "source": []
  }
 ],
 "metadata": {
  "interpreter": {
   "hash": "916dbcbb3f70747c44a77c7bcd40155683ae19c65e1c03b4aa3499c5328201f1"
  },
  "kernelspec": {
   "display_name": "Python 3.9.7 64-bit",
   "language": "python",
   "name": "python3"
  },
  "language_info": {
   "codemirror_mode": {
    "name": "ipython",
    "version": 3
   },
   "file_extension": ".py",
   "mimetype": "text/x-python",
   "name": "python",
   "nbconvert_exporter": "python",
   "pygments_lexer": "ipython3",
   "version": "3.9.10"
  },
  "orig_nbformat": 4
 },
 "nbformat": 4,
 "nbformat_minor": 2
}
