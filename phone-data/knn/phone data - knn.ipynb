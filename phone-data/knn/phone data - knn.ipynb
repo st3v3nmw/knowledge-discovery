{
 "cells": [
  {
   "cell_type": "code",
   "execution_count": 17,
   "metadata": {},
   "outputs": [],
   "source": [
    "import csv\n",
    "from datetime import datetime\n",
    "import numpy as np\n",
    "from sklearn.model_selection import train_test_split\n",
    "from sklearn.neighbors import KNeighborsClassifier"
   ]
  },
  {
   "cell_type": "code",
   "execution_count": 18,
   "metadata": {},
   "outputs": [],
   "source": [
    "with open(\"phone data ver2 - Original.csv\", \"r\") as f:\n",
    "    reader = csv.DictReader(f)\n",
    "    X, y = [], []\n",
    "    for row in reader:\n",
    "        gender = 0 if row['gender'] == 'F' else 1\n",
    "        marital_status = 0 if row['marital status'] == 'single' else 1\n",
    "        row['time of call'] = row['time of call'].replace('a.m', ' AM')\n",
    "        row['time of call'] = row['time of call'].replace('p.m', ' PM')\n",
    "        time_obj = datetime.strptime(row['time of call'], '%I:%M %p')\n",
    "        time_of_call = time_obj.hour * 60 * 60 + time_obj.minute * 60 + time_obj.second\n",
    "        X.append([gender, marital_status, time_of_call])\n",
    "        y.append(int(row['length of call (sec)']))\n",
    "    X = np.array(X)\n",
    "    y = np.array(y)"
   ]
  },
  {
   "cell_type": "code",
   "execution_count": 28,
   "metadata": {},
   "outputs": [
    {
     "name": "stdout",
     "output_type": "stream",
     "text": [
      "0.05555555555555555\n"
     ]
    }
   ],
   "source": [
    "X_train, X_test, y_train, y_test = train_test_split(X, y, test_size=0.3, random_state=42)\n",
    "\n",
    "model = KNeighborsClassifier(n_neighbors=3)\n",
    "model.fit(X_train, y_train)\n",
    "\n",
    "print(model.score(X_test, y_test))"
   ]
  },
  {
   "cell_type": "code",
   "execution_count": 25,
   "metadata": {},
   "outputs": [
    {
     "name": "stdout",
     "output_type": "stream",
     "text": [
      "45 39\n",
      "83 73\n",
      "50 39\n",
      "40 50\n",
      "47 39\n",
      "97 73\n",
      "54 50\n",
      "240 39\n",
      "55 50\n",
      "44 42\n",
      "110 49\n",
      "85 79\n",
      "100 73\n",
      "62 79\n",
      "4 7\n",
      "85 73\n",
      "75 73\n",
      "37 40\n"
     ]
    }
   ],
   "source": [
    "pred = model.predict(X_test)\n",
    "for i in range(len(pred)):\n",
    "    print(y_test[i], pred[i])"
   ]
  }
 ],
 "metadata": {
  "interpreter": {
   "hash": "916dbcbb3f70747c44a77c7bcd40155683ae19c65e1c03b4aa3499c5328201f1"
  },
  "kernelspec": {
   "display_name": "Python 3.9.7 64-bit",
   "language": "python",
   "name": "python3"
  },
  "language_info": {
   "codemirror_mode": {
    "name": "ipython",
    "version": 3
   },
   "file_extension": ".py",
   "mimetype": "text/x-python",
   "name": "python",
   "nbconvert_exporter": "python",
   "pygments_lexer": "ipython3",
   "version": "3.9.7"
  },
  "orig_nbformat": 4
 },
 "nbformat": 4,
 "nbformat_minor": 2
}
